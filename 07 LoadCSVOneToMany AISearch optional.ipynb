{
  "cells": [
    {
      "cell_type": "markdown",
      "source": [
        "# Load CSVs (one-to-many) to Azure Cognitive Search\n",
        "\n",
        "In this Jupyter Notebook, we create and run steps to index a CSV file in which each row is an individual and independent record/document. Each row then becomes searchable in Azure Cognitive Search. \n",
        "The reference documentation can be found at [Indexing blobs and files to produce multiple search documents](https://learn.microsoft.com/en-us/azure/search/search-howto-index-one-to-many-blobs).\n",
        "\n",
        "By default, an indexer will treat the contents of a blob or file as a single search document. If you want a more granular representation in a search index, you can set parsingMode values to create multiple search documents from one blob or file.\n",
        "\n",
        "We are going to be using the same private Blob Storage account but a different container that has abstracts of 90k Medical publications about COVID-19 published in 2020-2022. This file is a subset of a much bigger dataset (770k articles) called CORD19 [HERE](https://github.com/allenai/cord19)"
      ],
      "metadata": {},
      "id": "4077b4ee-73ea-4155-afbd-1de66dd6b650"
    },
    {
      "cell_type": "code",
      "source": [
        "import os\n",
        "import json\n",
        "import requests\n",
        "from dotenv import load_dotenv\n",
        "load_dotenv(\"credentials.env\")\n",
        "\n",
        "# Name of the container in your Blob Storage Datasource ( in credentials.env)\n",
        "BLOB_CONTAINER_NAME = \"csv\" #YK"
      ],
      "outputs": [],
      "execution_count": 1,
      "metadata": {
        "gather": {
          "logged": 1720143806789
        }
      },
      "id": "c088c844-1e71-4279-a8fe-a77a007c15c4"
    },
    {
      "cell_type": "code",
      "source": [
        "# Define the names for the data source, index and indexer\n",
        "datasource_name = \"cogsrch-datasource-csv-ykilinc\"\n",
        "skillset_name = \"cogsrch-skillset-csv-ykilinc\"\n",
        "index_name = \"cogsrch-index-csv-ykilinc\"\n",
        "indexer_name = \"cogsrch-indexer-csv-ykilinc\""
      ],
      "outputs": [],
      "execution_count": 2,
      "metadata": {
        "gather": {
          "logged": 1720143809931
        }
      },
      "id": "c4908539-1d17-46a3-b9e0-dcc46a210c4f"
    },
    {
      "cell_type": "code",
      "source": [
        "# Setup the Payloads header\n",
        "headers = {'Content-Type': 'application/json','api-key': os.environ['AZURE_SEARCH_KEY']}\n",
        "params = {'api-version': os.environ['AZURE_SEARCH_API_VERSION']}"
      ],
      "outputs": [],
      "execution_count": 3,
      "metadata": {
        "gather": {
          "logged": 1720143811912
        }
      },
      "id": "f2434379-070e-4110-8f5a-7d5bda9a0b7c"
    },
    {
      "cell_type": "markdown",
      "source": [
        "## Create Data Source (Blob container with the Litcovid CSV data file)"
      ],
      "metadata": {},
      "id": "ecad0e75-e3c8-4147-b8c6-b938435bc8f5"
    },
    {
      "cell_type": "code",
      "source": [
        "# Create a data source\n",
        "\n",
        "datasource_payload = {\n",
        "    \"name\": datasource_name,\n",
        "    \"description\": \"Demo files to demonstrate cognitive search capabilities of one-to-many.\",\n",
        "    \"type\": \"azureblob\",\n",
        "    \"credentials\": {\n",
        "        \"connectionString\": os.environ['BLOB_CONNECTION_STRING']\n",
        "    },\n",
        "    \"container\": {\n",
        "        \"name\": BLOB_CONTAINER_NAME\n",
        "    }\n",
        "}\n",
        "r = requests.put(os.environ['AZURE_SEARCH_ENDPOINT'] + \"/datasources/\" + datasource_name,\n",
        "                 data=json.dumps(datasource_payload), headers=headers, params=params)\n",
        "print(r.status_code)\n",
        "print(r.ok)"
      ],
      "outputs": [
        {
          "output_type": "stream",
          "name": "stdout",
          "text": "201\nTrue\n"
        }
      ],
      "execution_count": 4,
      "metadata": {
        "gather": {
          "logged": 1720143814963
        }
      },
      "id": "a9fa6c09-a489-4b6d-8c93-5fc26bae63a0"
    },
    {
      "cell_type": "markdown",
      "source": [
        "## Inspect CSV file so we can understand the column types before creating the Index"
      ],
      "metadata": {},
      "id": "86b7ff86-19fc-48d3-88d1-b098e8d01302"
    },
    {
      "cell_type": "markdown",
      "source": [
        "In our private dataset we have place a smaller version of the original the metadata.csv file in the cord19 dataset. \n",
        "Let's see what the file looks like:"
      ],
      "metadata": {},
      "id": "6cf6879a-a3da-4e54-97ed-f4122325abb1"
    },
    {
      "cell_type": "code",
      "source": [
        "#Read data from data store\n",
        "# Create data store and connect csv container \n",
        "#Follow the last step in the SET UP document\n",
        "import pandas as pd\n",
        "\n",
        "metadata = pd.read_csv(\"azureml://subscriptions/fe38c376-b42a-4741-9e7c-f5d7c31e5873/resourcegroups/prod-rg/workspaces/azureml_workshop/datastores/aisearchworkshop/paths/all_sources_metadatayk.csv\")\n",
        "print(\"No. of lines:\",metadata.shape[0])\n",
        "metadata.head()\n"
      ],
      "outputs": [
        {
          "output_type": "stream",
          "name": "stdout",
          "text": "No. of lines: 100\n"
        },
        {
          "output_type": "execute_result",
          "execution_count": 6,
          "data": {
            "text/plain": "                                        sha source_x  \\\n0  c630ebcdf30652f0422c3ec12a00b50241dc9bd9      CZI   \n1  53eccda7977a31e3d0f565c884da036b1e85438e      CZI   \n2  210a892deb1c61577f6fba58505fd65356ce6636      CZI   \n3  e3b40cc8e0e137c416b4a2273a4dca94ae8178cc      CZI   \n4  92c2c9839304b4f2bc1276d41b1aa885d8b364fd      CZI   \n\n                                               title  \\\n0  Angiotensin-converting enzyme 2 (ACE2) as a SA...   \n1  Comparative genetic analysis of the novel coro...   \n2  Incubation Period and Other Epidemiological Ch...   \n3  Characteristics of and Public Health Responses...   \n4       Imaging changes in severe COVID-19 pneumonia   \n\n                          doi  pmcid   pubmed_id   license  \\\n0  10.1007/s00134-020-05985-9    NaN  32125455.0  cc-by-nc   \n1   10.1038/s41421-020-0147-1    NaN         NaN     cc-by   \n2          10.3390/jcm9020538    NaN         NaN     cc-by   \n3          10.3390/jcm9020575    NaN  32093211.0     cc-by   \n4  10.1007/s00134-020-05976-w    NaN  32125453.0  cc-by-nc   \n\n                                            abstract  publish_time  \\\n0                                                NaN        2020.0   \n1                                                NaN        2020.0   \n2  The geographic spread of 2019 novel coronaviru...        2020.0   \n3  In December 2019, cases of unidentified pneumo...        2020.0   \n4                                                NaN        2020.0   \n\n                                             authors  \\\n0  Zhang, Haibo; Penninger, Josef M.; Li, Yimin; ...   \n1  Cao, Yanan; Li, Lin; Feng, Zhimin; Wan, Shengq...   \n2  Linton, M. Natalie; Kobayashi, Tetsuro; Yang, ...   \n3                   Deng, Sheng-Qun; Peng, Hong-Juan   \n4                                         Zhang, Wei   \n\n                        journal  Microsoft Academic Paper ID WHO #Covidence  \\\n0            Intensive Care Med                 2.002765e+09          #3252   \n1                Cell Discovery                 3.003431e+09          #1861   \n2  Journal of Clinical Medicine                 3.006065e+09          #1043   \n3                    J Clin Med                 1.776631e+08          #1999   \n4            Intensive Care Med                 3.006643e+09          #3242   \n\n   has_full_text  \n0           True  \n1           True  \n2           True  \n3           True  \n4          False  ",
            "text/html": "<div>\n<style scoped>\n    .dataframe tbody tr th:only-of-type {\n        vertical-align: middle;\n    }\n\n    .dataframe tbody tr th {\n        vertical-align: top;\n    }\n\n    .dataframe thead th {\n        text-align: right;\n    }\n</style>\n<table border=\"1\" class=\"dataframe\">\n  <thead>\n    <tr style=\"text-align: right;\">\n      <th></th>\n      <th>sha</th>\n      <th>source_x</th>\n      <th>title</th>\n      <th>doi</th>\n      <th>pmcid</th>\n      <th>pubmed_id</th>\n      <th>license</th>\n      <th>abstract</th>\n      <th>publish_time</th>\n      <th>authors</th>\n      <th>journal</th>\n      <th>Microsoft Academic Paper ID</th>\n      <th>WHO #Covidence</th>\n      <th>has_full_text</th>\n    </tr>\n  </thead>\n  <tbody>\n    <tr>\n      <th>0</th>\n      <td>c630ebcdf30652f0422c3ec12a00b50241dc9bd9</td>\n      <td>CZI</td>\n      <td>Angiotensin-converting enzyme 2 (ACE2) as a SA...</td>\n      <td>10.1007/s00134-020-05985-9</td>\n      <td>NaN</td>\n      <td>32125455.0</td>\n      <td>cc-by-nc</td>\n      <td>NaN</td>\n      <td>2020.0</td>\n      <td>Zhang, Haibo; Penninger, Josef M.; Li, Yimin; ...</td>\n      <td>Intensive Care Med</td>\n      <td>2.002765e+09</td>\n      <td>#3252</td>\n      <td>True</td>\n    </tr>\n    <tr>\n      <th>1</th>\n      <td>53eccda7977a31e3d0f565c884da036b1e85438e</td>\n      <td>CZI</td>\n      <td>Comparative genetic analysis of the novel coro...</td>\n      <td>10.1038/s41421-020-0147-1</td>\n      <td>NaN</td>\n      <td>NaN</td>\n      <td>cc-by</td>\n      <td>NaN</td>\n      <td>2020.0</td>\n      <td>Cao, Yanan; Li, Lin; Feng, Zhimin; Wan, Shengq...</td>\n      <td>Cell Discovery</td>\n      <td>3.003431e+09</td>\n      <td>#1861</td>\n      <td>True</td>\n    </tr>\n    <tr>\n      <th>2</th>\n      <td>210a892deb1c61577f6fba58505fd65356ce6636</td>\n      <td>CZI</td>\n      <td>Incubation Period and Other Epidemiological Ch...</td>\n      <td>10.3390/jcm9020538</td>\n      <td>NaN</td>\n      <td>NaN</td>\n      <td>cc-by</td>\n      <td>The geographic spread of 2019 novel coronaviru...</td>\n      <td>2020.0</td>\n      <td>Linton, M. Natalie; Kobayashi, Tetsuro; Yang, ...</td>\n      <td>Journal of Clinical Medicine</td>\n      <td>3.006065e+09</td>\n      <td>#1043</td>\n      <td>True</td>\n    </tr>\n    <tr>\n      <th>3</th>\n      <td>e3b40cc8e0e137c416b4a2273a4dca94ae8178cc</td>\n      <td>CZI</td>\n      <td>Characteristics of and Public Health Responses...</td>\n      <td>10.3390/jcm9020575</td>\n      <td>NaN</td>\n      <td>32093211.0</td>\n      <td>cc-by</td>\n      <td>In December 2019, cases of unidentified pneumo...</td>\n      <td>2020.0</td>\n      <td>Deng, Sheng-Qun; Peng, Hong-Juan</td>\n      <td>J Clin Med</td>\n      <td>1.776631e+08</td>\n      <td>#1999</td>\n      <td>True</td>\n    </tr>\n    <tr>\n      <th>4</th>\n      <td>92c2c9839304b4f2bc1276d41b1aa885d8b364fd</td>\n      <td>CZI</td>\n      <td>Imaging changes in severe COVID-19 pneumonia</td>\n      <td>10.1007/s00134-020-05976-w</td>\n      <td>NaN</td>\n      <td>32125453.0</td>\n      <td>cc-by-nc</td>\n      <td>NaN</td>\n      <td>2020.0</td>\n      <td>Zhang, Wei</td>\n      <td>Intensive Care Med</td>\n      <td>3.006643e+09</td>\n      <td>#3242</td>\n      <td>False</td>\n    </tr>\n  </tbody>\n</table>\n</div>"
          },
          "metadata": {}
        }
      ],
      "execution_count": 6,
      "metadata": {
        "jupyter": {
          "source_hidden": false,
          "outputs_hidden": false
        },
        "nteract": {
          "transient": {
            "deleting": false
          }
        },
        "gather": {
          "logged": 1720144235770
        }
      },
      "id": "20e6fb50-510f-49dd-98ef-f7a374ad2ee7"
    },
    {
      "cell_type": "code",
      "source": [
        "metadata.isnull().sum()"
      ],
      "outputs": [
        {
          "output_type": "execute_result",
          "execution_count": 7,
          "data": {
            "text/plain": "sha                              0\nsource_x                         0\ntitle                            0\ndoi                              0\npmcid                          100\npubmed_id                       75\nlicense                          0\nabstract                        28\npublish_time                     1\nauthors                          1\njournal                          0\nMicrosoft Academic Paper ID      7\nWHO #Covidence                   0\nhas_full_text                    0\ndtype: int64"
          },
          "metadata": {}
        }
      ],
      "execution_count": 7,
      "metadata": {
        "jupyter": {
          "source_hidden": false,
          "outputs_hidden": false
        },
        "nteract": {
          "transient": {
            "deleting": false
          }
        },
        "gather": {
          "logged": 1720144244062
        }
      },
      "id": "7cb999ef-9536-4773-b280-c2e9a0219842"
    },
    {
      "cell_type": "code",
      "source": [
        "data=metadata[metadata[['sha']].notnull().all(1)]\n",
        "data.shape"
      ],
      "outputs": [
        {
          "output_type": "execute_result",
          "execution_count": 8,
          "data": {
            "text/plain": "(100, 14)"
          },
          "metadata": {}
        }
      ],
      "execution_count": 8,
      "metadata": {
        "jupyter": {
          "source_hidden": false,
          "outputs_hidden": false
        },
        "nteract": {
          "transient": {
            "deleting": false
          }
        },
        "gather": {
          "logged": 1720144246976
        }
      },
      "id": "0d108b95-452a-4041-aac7-412915123bbf"
    },
    {
      "cell_type": "code",
      "source": [
        "data"
      ],
      "outputs": [
        {
          "output_type": "execute_result",
          "execution_count": 9,
          "data": {
            "text/plain": "                                         sha source_x  \\\n0   c630ebcdf30652f0422c3ec12a00b50241dc9bd9      CZI   \n1   53eccda7977a31e3d0f565c884da036b1e85438e      CZI   \n2   210a892deb1c61577f6fba58505fd65356ce6636      CZI   \n3   e3b40cc8e0e137c416b4a2273a4dca94ae8178cc      CZI   \n4   92c2c9839304b4f2bc1276d41b1aa885d8b364fd      CZI   \n..                                       ...      ...   \n95  0f5842185d3392825e5ab3768ecb832fb25a3b25      CZI   \n96  9b0c87f808b1b66f2937d7a7acb524a756b6113b      CZI   \n97  cff7fb355c096e08503caf3108f7b01525318634      CZI   \n98  4790e3eb0374a7f159014ef77ec42a6b9de91c29      CZI   \n99  e4d53d6c63d62095343315894b1f882efe299f7d      CZI   \n\n                                                title  \\\n0   Angiotensin-converting enzyme 2 (ACE2) as a SA...   \n1   Comparative genetic analysis of the novel coro...   \n2   Incubation Period and Other Epidemiological Ch...   \n3   Characteristics of and Public Health Responses...   \n4        Imaging changes in severe COVID-19 pneumonia   \n..                                                ...   \n95  Real-Time Estimation of the Risk of Death from...   \n96  Potential Rapid Diagnostics, Vaccine and Thera...   \n97  Comparison of different samples for 2019 novel...   \n98  Personal knowledge on novel coronavirus pneumonia   \n99  Differential diagnosis of illness in patients ...   \n\n                                       doi  pmcid   pubmed_id      license  \\\n0               10.1007/s00134-020-05985-9    NaN  32125455.0     cc-by-nc   \n1                10.1038/s41421-020-0147-1    NaN         NaN        cc-by   \n2                       10.3390/jcm9020538    NaN         NaN        cc-by   \n3                       10.3390/jcm9020575    NaN  32093211.0        cc-by   \n4               10.1007/s00134-020-05976-w    NaN  32125453.0     cc-by-nc   \n..                                     ...    ...         ...          ...   \n95                      10.3390/jcm9020523    NaN         NaN        cc-by   \n96                      10.3390/jcm9030623    NaN         NaN        cc-by   \n97              10.1016/j.ijid.2020.02.050    NaN         NaN  cc-by-nc-nd   \n98            10.1097/CM9.0000000000000757    NaN  32068600.0  cc-by-nc-nd   \n99  10.2807/1560-7917.ES.2020.25.8.2000170    NaN         NaN        cc-by   \n\n                                             abstract  publish_time  \\\n0                                                 NaN        2020.0   \n1                                                 NaN        2020.0   \n2   The geographic spread of 2019 novel coronaviru...        2020.0   \n3   In December 2019, cases of unidentified pneumo...        2020.0   \n4                                                 NaN        2020.0   \n..                                                ...           ...   \n95  The exported cases of 2019 novel coronavirus (...        2020.0   \n96  Rapid diagnostics, vaccines and therapeutics a...        2020.0   \n97  A severe respiratory ongoing outbreak of pneum...        2020.0   \n98                                                NaN        2020.0   \n99                                                NaN        2020.0   \n\n                                              authors  \\\n0   Zhang, Haibo; Penninger, Josef M.; Li, Yimin; ...   \n1   Cao, Yanan; Li, Lin; Feng, Zhimin; Wan, Shengq...   \n2   Linton, M. Natalie; Kobayashi, Tetsuro; Yang, ...   \n3                    Deng, Sheng-Qun; Peng, Hong-Juan   \n4                                          Zhang, Wei   \n..                                                ...   \n95  Jung, Sung-mok; Akhmetzhanov, Andrei R.; Hayas...   \n96  Pang, Junxiong; Wang, Min Xian; Ang, Ian Yi Ha...   \n97  Xie, Chunbao; Jiang, Lingxi; Huang, Guo; Pu, H...   \n98     Kang, Han-Yujie; Wang, Yi-Shan; Tong, Zhao-Hui   \n99  Bordi, Licia; Nicastri, Emanuele; Scorzolini, ...   \n\n                                         journal  Microsoft Academic Paper ID  \\\n0                             Intensive Care Med                 2.002765e+09   \n1                                 Cell Discovery                 3.003431e+09   \n2                   Journal of Clinical Medicine                 3.006065e+09   \n3                                     J Clin Med                 1.776631e+08   \n4                             Intensive Care Med                 3.006643e+09   \n..                                           ...                          ...   \n95                  Journal of Clinical Medicine                 3.005847e+09   \n96                  Journal of Clinical Medicine                 3.001516e+09   \n97  International Journal of Infectious Diseases                 2.081372e+09   \n98                             Chin Med J (Engl)                 3.002108e+09   \n99                              Eurosurveillance                 2.046424e+09   \n\n   WHO #Covidence  has_full_text  \n0           #3252           True  \n1           #1861           True  \n2           #1043           True  \n3           #1999           True  \n4           #3242          False  \n..            ...            ...  \n95           #965           True  \n96          #2155           True  \n97          #2506           True  \n98          #1226           True  \n99          #2677           True  \n\n[100 rows x 14 columns]",
            "text/html": "<div>\n<style scoped>\n    .dataframe tbody tr th:only-of-type {\n        vertical-align: middle;\n    }\n\n    .dataframe tbody tr th {\n        vertical-align: top;\n    }\n\n    .dataframe thead th {\n        text-align: right;\n    }\n</style>\n<table border=\"1\" class=\"dataframe\">\n  <thead>\n    <tr style=\"text-align: right;\">\n      <th></th>\n      <th>sha</th>\n      <th>source_x</th>\n      <th>title</th>\n      <th>doi</th>\n      <th>pmcid</th>\n      <th>pubmed_id</th>\n      <th>license</th>\n      <th>abstract</th>\n      <th>publish_time</th>\n      <th>authors</th>\n      <th>journal</th>\n      <th>Microsoft Academic Paper ID</th>\n      <th>WHO #Covidence</th>\n      <th>has_full_text</th>\n    </tr>\n  </thead>\n  <tbody>\n    <tr>\n      <th>0</th>\n      <td>c630ebcdf30652f0422c3ec12a00b50241dc9bd9</td>\n      <td>CZI</td>\n      <td>Angiotensin-converting enzyme 2 (ACE2) as a SA...</td>\n      <td>10.1007/s00134-020-05985-9</td>\n      <td>NaN</td>\n      <td>32125455.0</td>\n      <td>cc-by-nc</td>\n      <td>NaN</td>\n      <td>2020.0</td>\n      <td>Zhang, Haibo; Penninger, Josef M.; Li, Yimin; ...</td>\n      <td>Intensive Care Med</td>\n      <td>2.002765e+09</td>\n      <td>#3252</td>\n      <td>True</td>\n    </tr>\n    <tr>\n      <th>1</th>\n      <td>53eccda7977a31e3d0f565c884da036b1e85438e</td>\n      <td>CZI</td>\n      <td>Comparative genetic analysis of the novel coro...</td>\n      <td>10.1038/s41421-020-0147-1</td>\n      <td>NaN</td>\n      <td>NaN</td>\n      <td>cc-by</td>\n      <td>NaN</td>\n      <td>2020.0</td>\n      <td>Cao, Yanan; Li, Lin; Feng, Zhimin; Wan, Shengq...</td>\n      <td>Cell Discovery</td>\n      <td>3.003431e+09</td>\n      <td>#1861</td>\n      <td>True</td>\n    </tr>\n    <tr>\n      <th>2</th>\n      <td>210a892deb1c61577f6fba58505fd65356ce6636</td>\n      <td>CZI</td>\n      <td>Incubation Period and Other Epidemiological Ch...</td>\n      <td>10.3390/jcm9020538</td>\n      <td>NaN</td>\n      <td>NaN</td>\n      <td>cc-by</td>\n      <td>The geographic spread of 2019 novel coronaviru...</td>\n      <td>2020.0</td>\n      <td>Linton, M. Natalie; Kobayashi, Tetsuro; Yang, ...</td>\n      <td>Journal of Clinical Medicine</td>\n      <td>3.006065e+09</td>\n      <td>#1043</td>\n      <td>True</td>\n    </tr>\n    <tr>\n      <th>3</th>\n      <td>e3b40cc8e0e137c416b4a2273a4dca94ae8178cc</td>\n      <td>CZI</td>\n      <td>Characteristics of and Public Health Responses...</td>\n      <td>10.3390/jcm9020575</td>\n      <td>NaN</td>\n      <td>32093211.0</td>\n      <td>cc-by</td>\n      <td>In December 2019, cases of unidentified pneumo...</td>\n      <td>2020.0</td>\n      <td>Deng, Sheng-Qun; Peng, Hong-Juan</td>\n      <td>J Clin Med</td>\n      <td>1.776631e+08</td>\n      <td>#1999</td>\n      <td>True</td>\n    </tr>\n    <tr>\n      <th>4</th>\n      <td>92c2c9839304b4f2bc1276d41b1aa885d8b364fd</td>\n      <td>CZI</td>\n      <td>Imaging changes in severe COVID-19 pneumonia</td>\n      <td>10.1007/s00134-020-05976-w</td>\n      <td>NaN</td>\n      <td>32125453.0</td>\n      <td>cc-by-nc</td>\n      <td>NaN</td>\n      <td>2020.0</td>\n      <td>Zhang, Wei</td>\n      <td>Intensive Care Med</td>\n      <td>3.006643e+09</td>\n      <td>#3242</td>\n      <td>False</td>\n    </tr>\n    <tr>\n      <th>...</th>\n      <td>...</td>\n      <td>...</td>\n      <td>...</td>\n      <td>...</td>\n      <td>...</td>\n      <td>...</td>\n      <td>...</td>\n      <td>...</td>\n      <td>...</td>\n      <td>...</td>\n      <td>...</td>\n      <td>...</td>\n      <td>...</td>\n      <td>...</td>\n    </tr>\n    <tr>\n      <th>95</th>\n      <td>0f5842185d3392825e5ab3768ecb832fb25a3b25</td>\n      <td>CZI</td>\n      <td>Real-Time Estimation of the Risk of Death from...</td>\n      <td>10.3390/jcm9020523</td>\n      <td>NaN</td>\n      <td>NaN</td>\n      <td>cc-by</td>\n      <td>The exported cases of 2019 novel coronavirus (...</td>\n      <td>2020.0</td>\n      <td>Jung, Sung-mok; Akhmetzhanov, Andrei R.; Hayas...</td>\n      <td>Journal of Clinical Medicine</td>\n      <td>3.005847e+09</td>\n      <td>#965</td>\n      <td>True</td>\n    </tr>\n    <tr>\n      <th>96</th>\n      <td>9b0c87f808b1b66f2937d7a7acb524a756b6113b</td>\n      <td>CZI</td>\n      <td>Potential Rapid Diagnostics, Vaccine and Thera...</td>\n      <td>10.3390/jcm9030623</td>\n      <td>NaN</td>\n      <td>NaN</td>\n      <td>cc-by</td>\n      <td>Rapid diagnostics, vaccines and therapeutics a...</td>\n      <td>2020.0</td>\n      <td>Pang, Junxiong; Wang, Min Xian; Ang, Ian Yi Ha...</td>\n      <td>Journal of Clinical Medicine</td>\n      <td>3.001516e+09</td>\n      <td>#2155</td>\n      <td>True</td>\n    </tr>\n    <tr>\n      <th>97</th>\n      <td>cff7fb355c096e08503caf3108f7b01525318634</td>\n      <td>CZI</td>\n      <td>Comparison of different samples for 2019 novel...</td>\n      <td>10.1016/j.ijid.2020.02.050</td>\n      <td>NaN</td>\n      <td>NaN</td>\n      <td>cc-by-nc-nd</td>\n      <td>A severe respiratory ongoing outbreak of pneum...</td>\n      <td>2020.0</td>\n      <td>Xie, Chunbao; Jiang, Lingxi; Huang, Guo; Pu, H...</td>\n      <td>International Journal of Infectious Diseases</td>\n      <td>2.081372e+09</td>\n      <td>#2506</td>\n      <td>True</td>\n    </tr>\n    <tr>\n      <th>98</th>\n      <td>4790e3eb0374a7f159014ef77ec42a6b9de91c29</td>\n      <td>CZI</td>\n      <td>Personal knowledge on novel coronavirus pneumonia</td>\n      <td>10.1097/CM9.0000000000000757</td>\n      <td>NaN</td>\n      <td>32068600.0</td>\n      <td>cc-by-nc-nd</td>\n      <td>NaN</td>\n      <td>2020.0</td>\n      <td>Kang, Han-Yujie; Wang, Yi-Shan; Tong, Zhao-Hui</td>\n      <td>Chin Med J (Engl)</td>\n      <td>3.002108e+09</td>\n      <td>#1226</td>\n      <td>True</td>\n    </tr>\n    <tr>\n      <th>99</th>\n      <td>e4d53d6c63d62095343315894b1f882efe299f7d</td>\n      <td>CZI</td>\n      <td>Differential diagnosis of illness in patients ...</td>\n      <td>10.2807/1560-7917.ES.2020.25.8.2000170</td>\n      <td>NaN</td>\n      <td>NaN</td>\n      <td>cc-by</td>\n      <td>NaN</td>\n      <td>2020.0</td>\n      <td>Bordi, Licia; Nicastri, Emanuele; Scorzolini, ...</td>\n      <td>Eurosurveillance</td>\n      <td>2.046424e+09</td>\n      <td>#2677</td>\n      <td>True</td>\n    </tr>\n  </tbody>\n</table>\n<p>100 rows × 14 columns</p>\n</div>"
          },
          "metadata": {}
        }
      ],
      "execution_count": 9,
      "metadata": {
        "jupyter": {
          "source_hidden": false,
          "outputs_hidden": false
        },
        "nteract": {
          "transient": {
            "deleting": false
          }
        },
        "gather": {
          "logged": 1720144247123
        }
      },
      "id": "fc03dc84-5e36-4bac-bbd8-fbbe34a82fe7"
    },
    {
      "cell_type": "markdown",
      "source": [
        "## Create the Index\n",
        "In Azure Cognitive Search, both blob indexers and file indexers support a delimitedText parsing mode for CSV files that treats each line in the CSV as a separate search document.\n",
        "\n",
        "### **Important**:\n",
        "As you can see below and from the prior Notebook, there are 7 mandatory fields in the schema: `id, title, content, chunks, name, location, vectorized`. These fields must exist in any index that you create regardles of the datasource. Any additional fields are good to add so the engine can search relevant documents, however the mandatory fields must exist for all the code downstream work with no issues."
      ],
      "metadata": {},
      "id": "0a321916-cd14-4d34-837d-1d153edb1221"
    },
    {
      "cell_type": "code",
      "source": [
        "# Create an index\n",
        "# Queries operate over the searchable fields and filterable fields in the index\n",
        "index_payload = {\n",
        "    \"name\": index_name,\n",
        "    \"vectorSearch\": {\n",
        "        \"algorithms\": [\n",
        "            {\n",
        "                \"name\": \"myalgo\",\n",
        "                \"kind\": \"hnsw\"\n",
        "            }\n",
        "        ],\n",
        "        \"vectorizers\": [\n",
        "            {\n",
        "                \"name\": \"openai\",\n",
        "                \"kind\": \"azureOpenAI\",\n",
        "                \"azureOpenAIParameters\":\n",
        "                {\n",
        "                    \"resourceUri\" : os.environ['AZURE_OPENAI_ENDPOINT'],\n",
        "                    \"apiKey\" : os.environ['AZURE_OPENAI_API_KEY'],\n",
        "                    \"deploymentId\" : os.environ['EMBEDDING_DEPLOYMENT_NAME']\n",
        "                }\n",
        "            }\n",
        "        ],\n",
        "        \"profiles\": [\n",
        "            {\n",
        "                \"name\": \"myprofile\",\n",
        "                \"algorithm\": \"myalgo\",\n",
        "                \"vectorizer\":\"openai\"\n",
        "            }\n",
        "        ]\n",
        "    },\n",
        "    \"semantic\": {\n",
        "        \"configurations\": [\n",
        "            {\n",
        "                \"name\": \"my-semantic-config\",\n",
        "                \"prioritizedFields\": {\n",
        "                    \"titleField\": {\n",
        "                        \"fieldName\": \"title\"\n",
        "                    },\n",
        "                    \"prioritizedContentFields\": [\n",
        "                        {\n",
        "                            \"fieldName\": \"chunk\"\n",
        "                        }\n",
        "                    ],\n",
        "                    \"prioritizedKeywordsFields\": []\n",
        "                }\n",
        "            }\n",
        "        ]\n",
        "    },\n",
        "    \"fields\": [\n",
        "        {\"name\": \"id\", \"type\": \"Edm.String\", \"key\": \"true\", \"analyzer\": \"keyword\", \"searchable\": \"true\", \"retrievable\": \"true\", \"sortable\": \"false\", \"filterable\": \"false\",\"facetable\": \"false\"},\n",
        "        {\"name\": \"ParentKey\", \"type\": \"Edm.String\", \"searchable\": \"true\", \"retrievable\": \"true\", \"facetable\": \"false\", \"filterable\": \"true\", \"sortable\": \"false\"},\n",
        "        {\"name\": \"title\", \"type\": \"Edm.String\", \"searchable\": \"true\", \"retrievable\": \"true\", \"facetable\": \"false\", \"filterable\": \"true\", \"sortable\": \"false\"},\n",
        "        {\"name\": \"name\", \"type\": \"Edm.String\", \"searchable\": \"true\", \"retrievable\": \"true\", \"sortable\": \"false\", \"filterable\": \"false\", \"facetable\": \"false\"},\n",
        "        {\"name\": \"location\", \"type\": \"Edm.String\", \"searchable\": \"true\", \"retrievable\": \"true\", \"sortable\": \"false\", \"filterable\": \"false\", \"facetable\": \"false\"},   \n",
        "        {\"name\": \"chunk\",\"type\": \"Edm.String\", \"searchable\": \"true\", \"retrievable\": \"true\", \"sortable\": \"false\", \"filterable\": \"false\", \"facetable\": \"false\"},\n",
        "        {\n",
        "            \"name\": \"chunkVector\",\n",
        "            \"type\": \"Collection(Edm.Single)\",\n",
        "            \"dimensions\": 1536,   # IMPORTANT: Make sure these dimmensions match your embedding model name\n",
        "            \"vectorSearchProfile\": \"myprofile\",\n",
        "            \"searchable\": \"true\",\n",
        "            \"retrievable\": \"true\",\n",
        "            \"filterable\": \"false\",\n",
        "            \"sortable\": \"false\",\n",
        "            \"facetable\": \"false\"\n",
        "        }\n",
        "    ]\n",
        "}\n",
        "\n",
        "r = requests.put(os.environ['AZURE_SEARCH_ENDPOINT'] + \"/indexes/\" + index_name,\n",
        "                 data=json.dumps(index_payload), headers=headers, params=params)\n",
        "print(r.status_code)\n",
        "print(r.ok)\n"
      ],
      "outputs": [
        {
          "output_type": "stream",
          "name": "stdout",
          "text": "201\nTrue\n"
        }
      ],
      "execution_count": 10,
      "metadata": {
        "gather": {
          "logged": 1720144333889
        }
      },
      "id": "5284b80c-9ba6-49d6-8109-5bfdbaa6ddc5"
    },
    {
      "cell_type": "markdown",
      "source": [
        "## Create Skillset - Text Splitter, Language Detection\n",
        "We will use cognitive services enrichment for spliting the text of each content field into chunks (pages) and for language detection. We should always split the text since we don't know how big the content of each row might be."
      ],
      "metadata": {},
      "id": "c0b3935d-8546-4756-95cd-7f4fcecb9836"
    },
    {
      "cell_type": "code",
      "source": [
        "# Create a skillset\n",
        "skillset_payload = {\n",
        "    \"name\": skillset_name,\n",
        "    \"description\": \"e2e Skillset for RAG - One to Many\",\n",
        "    \"skills\":\n",
        "    [\n",
        "        {\n",
        "            \"@odata.type\": \"#Microsoft.Skills.Text.SplitSkill\",\n",
        "            \"context\": \"/document\",\n",
        "            \"textSplitMode\": \"pages\",\n",
        "            \"maximumPageLength\": 5000, # 5000 is default\n",
        "            \"defaultLanguageCode\": \"en\",\n",
        "            \"inputs\": [\n",
        "                {\n",
        "                    \"name\": \"text\",\n",
        "                    \"source\": \"/document/abstract\"\n",
        "                }\n",
        "            ],\n",
        "            \"outputs\": [\n",
        "                {\n",
        "                    \"name\": \"textItems\",\n",
        "                    \"targetName\": \"chunks\"\n",
        "                }\n",
        "            ]\n",
        "        },\n",
        "        {\n",
        "            \"@odata.type\": \"#Microsoft.Skills.Text.AzureOpenAIEmbeddingSkill\",\n",
        "            \"description\": \"Azure OpenAI Embedding Skill\",\n",
        "            \"context\": \"/document/chunks/*\",\n",
        "            \"resourceUri\": os.environ['AZURE_OPENAI_ENDPOINT'],\n",
        "            \"apiKey\": os.environ['AZURE_OPENAI_API_KEY'],\n",
        "            \"deploymentId\": os.environ['EMBEDDING_DEPLOYMENT_NAME'],\n",
        "            \"inputs\": [\n",
        "                {\n",
        "                    \"name\": \"text\",\n",
        "                    \"source\": \"/document/chunks/*\"\n",
        "                }\n",
        "            ],\n",
        "            \"outputs\": [\n",
        "                {\n",
        "                    \"name\": \"embedding\",\n",
        "                    \"targetName\": \"vector\"\n",
        "                }\n",
        "            ]\n",
        "        }\n",
        "    ],\n",
        "    \"indexProjections\": {\n",
        "        \"selectors\": [\n",
        "            {\n",
        "                \"targetIndexName\": index_name,\n",
        "                \"parentKeyFieldName\": \"ParentKey\",\n",
        "                \"sourceContext\": \"/document/chunks/*\",\n",
        "                \"mappings\": [\n",
        "                    {\n",
        "                        \"name\": \"title\",\n",
        "                        \"source\": \"/document/title\"\n",
        "                    },\n",
        "                    {\n",
        "                        \"name\": \"name\",\n",
        "                        \"source\": \"/document/name\"\n",
        "                    },\n",
        "                    {\n",
        "                        \"name\": \"location\",\n",
        "                        \"source\": \"/document/location\"\n",
        "                    },\n",
        "                    {\n",
        "                        \"name\": \"chunk\",\n",
        "                        \"source\": \"/document/chunks/*\"\n",
        "                    },\n",
        "                    {\n",
        "                        \"name\": \"chunkVector\",\n",
        "                        \"source\": \"/document/chunks/*/vector\"\n",
        "                    }\n",
        "                ]\n",
        "            }\n",
        "        ],\n",
        "        \"parameters\": {\n",
        "            \"projectionMode\": \"skipIndexingParentDocuments\"\n",
        "        }\n",
        "    },\n",
        "    \"cognitiveServices\": {\n",
        "        \"@odata.type\": \"#Microsoft.Azure.Search.CognitiveServicesByKey\",\n",
        "        \"description\": os.environ['COG_SERVICES_NAME'],\n",
        "        \"key\": os.environ['COG_SERVICES_KEY']\n",
        "    }\n",
        "}\n",
        "\n",
        "r = requests.put(os.environ['AZURE_SEARCH_ENDPOINT'] + \"/skillsets/\" + skillset_name,\n",
        "                 data=json.dumps(skillset_payload), headers=headers, params=params)\n",
        "print(r.status_code)\n",
        "print(r.ok)"
      ],
      "outputs": [
        {
          "output_type": "stream",
          "name": "stdout",
          "text": "201\nTrue\n"
        }
      ],
      "execution_count": 11,
      "metadata": {
        "gather": {
          "logged": 1720144400075
        }
      },
      "id": "b46cfa90-28b4-4602-b6ff-743a3407fd72"
    },
    {
      "cell_type": "markdown",
      "source": [
        "## Create and Run the Indexer - (runs the pipeline)\n",
        "To create one-to-many indexers with CSV blobs, create or update an indexer definition with the delimitedText parsing mode"
      ],
      "metadata": {},
      "id": "51849738-6f66-452a-b7df-d34afd11f943"
    },
    {
      "cell_type": "code",
      "source": [
        "indexer_payload = {\n",
        "    \"name\": indexer_name,\n",
        "    \"dataSourceName\": datasource_name,\n",
        "    \"targetIndexName\": index_name,\n",
        "    \"skillsetName\": skillset_name,\n",
        "    \"schedule\" : { \"interval\" : \"PT30M\"}, # How often do you want to check for new content in the data source\n",
        "    \"fieldMappings\": [\n",
        "        {\n",
        "          \"sourceFieldName\" : \"metadata_storage_name\",\n",
        "          \"targetFieldName\" : \"name\"\n",
        "        },\n",
        "        {\n",
        "          \"sourceFieldName\" : \"url\",\n",
        "          \"targetFieldName\" : \"location\"\n",
        "        }\n",
        "    ],\n",
        "    \"outputFieldMappings\":\n",
        "    [],\n",
        "    \"parameters\" : { \n",
        "        \"configuration\" : { \n",
        "            \"dataToExtract\": \"contentAndMetadata\",\n",
        "            \"parsingMode\" : \"delimitedText\", \n",
        "            \"firstLineContainsHeaders\" : True,\n",
        "            \"delimitedTextDelimiter\": \",\"\n",
        "        } \n",
        "    }\n",
        "}\n",
        "r = requests.put(os.environ['AZURE_SEARCH_ENDPOINT'] + \"/indexers/\" + indexer_name,\n",
        "                 data=json.dumps(indexer_payload), headers=headers, params=params)\n",
        "print(r.status_code)\n",
        "print(r.ok)"
      ],
      "outputs": [
        {
          "output_type": "stream",
          "name": "stdout",
          "text": "204\nTrue\n"
        }
      ],
      "execution_count": 15,
      "metadata": {
        "gather": {
          "logged": 1720145542904
        }
      },
      "id": "b87b8ebd-8091-43b6-9124-cc17021cfb78"
    },
    {
      "cell_type": "code",
      "source": [
        "r.text"
      ],
      "outputs": [
        {
          "output_type": "execute_result",
          "execution_count": 13,
          "data": {
            "text/plain": "'{\"@odata.context\":\"https://ragworkshopyk.search.windows.net/$metadata#indexers/$entity\",\"@odata.etag\":\"\\\\\"0x8DC9C955961560E\\\\\"\",\"name\":\"cogsrch-indexer-csv-ykilinc\",\"description\":null,\"dataSourceName\":\"cogsrch-datasource-csv-ykilinc\",\"skillsetName\":\"cogsrch-skillset-csv-ykilinc\",\"targetIndexName\":\"cogsrch-index-csv-ykilinc\",\"disabled\":null,\"schedule\":{\"interval\":\"PT30M\",\"startTime\":\"2024-07-05T01:54:03.2426614Z\"},\"parameters\":{\"batchSize\":null,\"maxFailedItems\":null,\"maxFailedItemsPerBatch\":null,\"base64EncodeKeys\":null,\"configuration\":{\"dataToExtract\":\"contentAndMetadata\",\"parsingMode\":\"delimitedText\",\"firstLineContainsHeaders\":true,\"delimitedTextDelimiter\":\",\"}},\"fieldMappings\":[{\"sourceFieldName\":\"metadata_storage_name\",\"targetFieldName\":\"name\",\"mappingFunction\":null},{\"sourceFieldName\":\"url\",\"targetFieldName\":\"location\",\"mappingFunction\":null}],\"outputFieldMappings\":[],\"cache\":null,\"encryptionKey\":null}'"
          },
          "metadata": {}
        }
      ],
      "execution_count": 13,
      "metadata": {
        "jupyter": {
          "source_hidden": false,
          "outputs_hidden": false
        },
        "nteract": {
          "transient": {
            "deleting": false
          }
        },
        "gather": {
          "logged": 1720144451002
        }
      },
      "id": "d102fee3-65b3-4057-bc8d-3fcbcfdd4d6e"
    },
    {
      "cell_type": "code",
      "source": [
        "# Optionally, get indexer status to confirm that it's running\n",
        "try:\n",
        "    r = requests.get(os.environ['AZURE_SEARCH_ENDPOINT'] + \"/indexers/\" + indexer_name +\n",
        "                     \"/status\", headers=headers, params=params)\n",
        "    # pprint(json.dumps(r.json(), indent=1))\n",
        "    print(r.status_code)\n",
        "    print(\"Status:\",r.json().get('lastResult').get('status'))\n",
        "    print(\"Items Processed:\",r.json().get('lastResult').get('itemsProcessed'))\n",
        "    print(r.ok)\n",
        "    \n",
        "except Exception as e:\n",
        "    print(\"Wait a few seconds until the process starts and run this cell again.\")"
      ],
      "outputs": [
        {
          "output_type": "stream",
          "name": "stdout",
          "text": "200\nStatus: success\nItems Processed: 100\nTrue\n"
        }
      ],
      "execution_count": 14,
      "metadata": {
        "gather": {
          "logged": 1720144514033
        }
      },
      "id": "6132c041-7213-410e-a206-1a8c7385128e"
    },
    {
      "cell_type": "markdown",
      "source": [
        "**When the indexer finishes running we will have all 90,000 rows indexed properly as separate documents in our Search Engine!.**"
      ],
      "metadata": {},
      "id": "2152806f-245c-45db-93c6-c19c0569d73a"
    },
    {
      "cell_type": "markdown",
      "source": [
        "# Reference\n",
        "\n",
        "- https://learn.microsoft.com/en-us/azure/search/search-howto-index-csv-blobs\n",
        "- https://learn.microsoft.com/en-us/azure/search/knowledge-store-create-rest\n",
        "\n"
      ],
      "metadata": {},
      "id": "0eed6f22-437f-4a49-9b67-5fa2e7d066bf"
    },
    {
      "cell_type": "markdown",
      "source": [
        "# NEXT\n",
        "Now that we have two separate text-based indexes loaded with two different types of information and its correspongind vector-based indexes, In the next notebook, we will do a Multi-Index query, sort the results based on the reranker semantic score of Azure Search, and then use OpenAI to understand this results and give the best answer possible"
      ],
      "metadata": {},
      "id": "4d9f82a9-cb4c-44b9-b125-bc124ea23aa8"
    },
    {
      "cell_type": "code",
      "source": [],
      "outputs": [],
      "execution_count": null,
      "metadata": {},
      "id": "7505d8f9-39c7-4b87-a85f-283b6fea3de0"
    }
  ],
  "metadata": {
    "kernelspec": {
      "name": "python310-sdkv2",
      "language": "python",
      "display_name": "Python 3.10 - SDK v2"
    },
    "language_info": {
      "name": "python",
      "version": "3.10.11",
      "mimetype": "text/x-python",
      "codemirror_mode": {
        "name": "ipython",
        "version": 3
      },
      "pygments_lexer": "ipython3",
      "nbconvert_exporter": "python",
      "file_extension": ".py"
    },
    "microsoft": {
      "ms_spell_check": {
        "ms_spell_check_language": "en"
      },
      "host": {
        "AzureML": {
          "notebookHasBeenCompleted": true
        }
      }
    },
    "kernel_info": {
      "name": "python310-sdkv2"
    },
    "nteract": {
      "version": "nteract-front-end@1.0.0"
    }
  },
  "nbformat": 4,
  "nbformat_minor": 5
}